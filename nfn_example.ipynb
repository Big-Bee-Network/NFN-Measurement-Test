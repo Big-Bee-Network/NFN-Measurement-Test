{
 "cells": [
  {
   "cell_type": "code",
   "execution_count": null,
   "metadata": {},
   "outputs": [],
   "source": [
    "PATH = '' #if your CSV file is in the same folder as your script, you can probably just use the name of it, otherwise right click it and hit \"copy as path\" (if on Windows, I don't know how it works on Mac), then paste it as a string\n",
    "column_name = '' #whatever the column name on the google sheets is, if it's being funky you can see this info by just running a cell with the variable name CSV (as long as you make sure you defined the variable in line 5 and line 5 ran. line 5 won't run if there is an error before it)\n",
    "\n",
    "import pandas as pd\n",
    "CSV = pd.read_csv(PATH)\n",
    "\n",
    "desired_array_from_CSV = CSV[column_name]\n",
    "desired_array_from_CSV = np.array(desired_array_from_CSV)\n",
    "\n",
    "#desired_array_from_CSV will be an array with a column of data from the CSV"
   ]
  }
 ],
 "metadata": {
  "language_info": {
   "name": "python"
  },
  "orig_nbformat": 4
 },
 "nbformat": 4,
 "nbformat_minor": 2
}
